{
 "cells": [
  {
   "cell_type": "markdown",
   "id": "3166e69e",
   "metadata": {},
   "source": [
    "## Problem Statement:\n",
    "\n",
    "The Taxi and Limousine Commission (TLC) of New York City collects trip record data from licensed taxis and for-hire vehicles (FHVs) and provides it to the public. The data includes details such as pick-up and drop-off times, locations, passenger counts, and payment information for each trip. As a data engineer, your task is to build a batch data processing pipeline using PySpark to process and analyze this data to gain insights into taxi and FHV trips in New York City."
   ]
  },
  {
   "cell_type": "markdown",
   "id": "c335dd09",
   "metadata": {},
   "source": [
    "### Goals:\n",
    "\n",
    "Data ingestion: Download the trip record data from the NYC TLC website and ingest it into the pipeline for further processing.\n",
    "\n",
    "Data cleaning and validation: Perform data quality checks and validation to ensure that the data is clean and consistent. Identify and remove duplicates, null values, and other data quality issues that may impact downstream analysis.\n",
    "\n",
    "Data transformation: Transform the raw trip record data into a format that is optimized for analysis. This may include aggregating the data by time periods, geographical regions, and other factors of interest.\n",
    "\n",
    "Data analysis: Use PySpark to perform statistical analysis, data exploration, and data visualization to gain insights into taxi and FHV trips in New York City. This may include identifying popular pick-up and drop-off locations, peak trip times, and other patterns and trends in the data.\n",
    "\n",
    "Data storage: Store the processed and analyzed data in a suitable data storage system  for future use.\n",
    "\n",
    "---\n",
    "\n",
    "The overall goal of the project is to build a batch data processing pipeline using PySpark to extract insights from the NYC TLC trip record data. The pipeline should be scalable, efficient, and automated to enable easy data processing and analysis."
   ]
  },
  {
   "cell_type": "markdown",
   "id": "03d1cf91",
   "metadata": {},
   "source": [
    "### Import Libraries and Intiate Spark session"
   ]
  },
  {
   "cell_type": "code",
   "execution_count": 1,
   "id": "f2841e8e",
   "metadata": {},
   "outputs": [],
   "source": [
    "# !pip install geospark\n",
    "# !pip install pyspark"
   ]
  },
  {
   "cell_type": "code",
   "execution_count": 2,
   "id": "2475ec2c",
   "metadata": {},
   "outputs": [],
   "source": [
    "import configparser\n",
    "\n",
    "import pandas as pd\n",
    "\n",
    "from pyspark.sql import SparkSession\n",
    "import pyspark.sql.functions as F\n",
    "from pyspark.sql.types import StructType, StructField, StringType, DoubleType, LongType, TimestampType\n",
    "\n",
    "import geospark"
   ]
  },
  {
   "cell_type": "code",
   "execution_count": 3,
   "id": "ea5775a5",
   "metadata": {},
   "outputs": [
    {
     "name": "stderr",
     "output_type": "stream",
     "text": [
      "23/05/16 18:36:01 WARN Utils: Your hostname, joker021-VirtualBox resolves to a loopback address: 127.0.1.1; using 10.0.2.15 instead (on interface enp0s3)\n",
      "23/05/16 18:36:01 WARN Utils: Set SPARK_LOCAL_IP if you need to bind to another address\n",
      "Setting default log level to \"WARN\".\n",
      "To adjust logging level use sc.setLogLevel(newLevel). For SparkR, use setLogLevel(newLevel).\n",
      "23/05/16 18:36:02 WARN NativeCodeLoader: Unable to load native-hadoop library for your platform... using builtin-java classes where applicable\n"
     ]
    }
   ],
   "source": [
    "spark = SparkSession.builder.appName(\"nyc_batch_pipeline\").getOrCreate()"
   ]
  },
  {
   "cell_type": "code",
   "execution_count": 4,
   "id": "4fba643c",
   "metadata": {},
   "outputs": [
    {
     "data": {
      "text/html": [
       "\n",
       "            <div>\n",
       "                <p><b>SparkSession - in-memory</b></p>\n",
       "                \n",
       "        <div>\n",
       "            <p><b>SparkContext</b></p>\n",
       "\n",
       "            <p><a href=\"http://10.0.2.15:4040\">Spark UI</a></p>\n",
       "\n",
       "            <dl>\n",
       "              <dt>Version</dt>\n",
       "                <dd><code>v3.4.0</code></dd>\n",
       "              <dt>Master</dt>\n",
       "                <dd><code>local[*]</code></dd>\n",
       "              <dt>AppName</dt>\n",
       "                <dd><code>nyc_batch_pipeline</code></dd>\n",
       "            </dl>\n",
       "        </div>\n",
       "        \n",
       "            </div>\n",
       "        "
      ],
      "text/plain": [
       "<pyspark.sql.session.SparkSession at 0x7f569a9f98d0>"
      ]
     },
     "execution_count": 4,
     "metadata": {},
     "output_type": "execute_result"
    }
   ],
   "source": [
    "spark"
   ]
  },
  {
   "cell_type": "markdown",
   "id": "6212656a",
   "metadata": {},
   "source": [
    "### Data Ingestion"
   ]
  },
  {
   "cell_type": "code",
   "execution_count": 5,
   "id": "53e32b90",
   "metadata": {},
   "outputs": [],
   "source": [
    "# Parsing from config file\n",
    "conf = configparser.ConfigParser()\n",
    "conf.read(\"config\")\n",
    "data_source_path = conf.get(\"DATA PATH\", \"DataSource_PATH\")\n",
    "\n",
    "# Schema\n",
    "schema = StructType([\n",
    "    StructField('vendor_name', StringType(), True), \n",
    "    StructField('Trip_Pickup_DateTime', StringType(), True), \n",
    "    StructField('Trip_Dropoff_DateTime', StringType(), True), \n",
    "    StructField('Passenger_Count', LongType(), True), \n",
    "    StructField('Trip_Distance', DoubleType(), True), \n",
    "    StructField('Rate_Code', DoubleType(), True), \n",
    "    StructField('store_and_forward', DoubleType(), True), \n",
    "    StructField('Payment_Type', StringType(), True), \n",
    "    StructField('Fare_Amt', DoubleType(), True), \n",
    "    StructField('surcharge', DoubleType(), True), \n",
    "    StructField('mta_tax', DoubleType(), True), \n",
    "    StructField('Tip_Amt', DoubleType(), True), \n",
    "    StructField('Tolls_Amt', DoubleType(), True), \n",
    "    StructField('Total_Amt', DoubleType(), True)]\n",
    ")\n",
    "\n",
    "# Reading the DataSource from PySpark\n",
    "df_full = spark.read.schema(schema).parquet(data_source_path, schema=schema)"
   ]
  },
  {
   "cell_type": "code",
   "execution_count": 6,
   "id": "abda0891",
   "metadata": {},
   "outputs": [
    {
     "name": "stdout",
     "output_type": "stream",
     "text": [
      "No of Partitons: 4\n"
     ]
    }
   ],
   "source": [
    "print(f\"No of Partitons: {df_full.rdd.getNumPartitions()}\")"
   ]
  },
  {
   "cell_type": "code",
   "execution_count": 7,
   "id": "1306b86a",
   "metadata": {},
   "outputs": [],
   "source": [
    "frac = 0.01\n",
    "df = df_full.sample(fraction=frac, seed=123)"
   ]
  },
  {
   "cell_type": "code",
   "execution_count": 8,
   "id": "ae8bd3c3",
   "metadata": {},
   "outputs": [
    {
     "name": "stdout",
     "output_type": "stream",
     "text": [
      "root\n",
      " |-- vendor_name: string (nullable = true)\n",
      " |-- Trip_Pickup_DateTime: string (nullable = true)\n",
      " |-- Trip_Dropoff_DateTime: string (nullable = true)\n",
      " |-- Passenger_Count: long (nullable = true)\n",
      " |-- Trip_Distance: double (nullable = true)\n",
      " |-- Rate_Code: double (nullable = true)\n",
      " |-- store_and_forward: double (nullable = true)\n",
      " |-- Payment_Type: string (nullable = true)\n",
      " |-- Fare_Amt: double (nullable = true)\n",
      " |-- surcharge: double (nullable = true)\n",
      " |-- mta_tax: double (nullable = true)\n",
      " |-- Tip_Amt: double (nullable = true)\n",
      " |-- Tolls_Amt: double (nullable = true)\n",
      " |-- Total_Amt: double (nullable = true)\n",
      "\n"
     ]
    }
   ],
   "source": [
    "# Schema\n",
    "df.printSchema()"
   ]
  },
  {
   "cell_type": "markdown",
   "id": "f21617cf",
   "metadata": {},
   "source": [
    "### Data Cleaning And Validation"
   ]
  },
  {
   "cell_type": "markdown",
   "id": "f90c037c",
   "metadata": {},
   "source": [
    "#### Missing Values"
   ]
  },
  {
   "cell_type": "code",
   "execution_count": 9,
   "id": "964441b2",
   "metadata": {},
   "outputs": [
    {
     "name": "stderr",
     "output_type": "stream",
     "text": [
      "[Stage 0:============================================>              (3 + 1) / 4]\r"
     ]
    },
    {
     "name": "stdout",
     "output_type": "stream",
     "text": [
      "No of Rows: 140868\n",
      "No of cols: 14\n"
     ]
    },
    {
     "name": "stderr",
     "output_type": "stream",
     "text": [
      "\r",
      "                                                                                \r"
     ]
    }
   ],
   "source": [
    "no_of_row = df.count()\n",
    "print(f\"No of Rows: {no_of_row}\")\n",
    "print(f\"No of cols: {len(df.columns)}\")"
   ]
  },
  {
   "cell_type": "code",
   "execution_count": 10,
   "id": "52345774",
   "metadata": {},
   "outputs": [
    {
     "name": "stderr",
     "output_type": "stream",
     "text": [
      "                                                                                \r"
     ]
    }
   ],
   "source": [
    "null_count = df.\\\n",
    "select(\n",
    "    [F.count(F.when(F.isnan(c) | F.col(c).isNull(), c)).alias(c) for c in df.columns]\n",
    ").collect()[0]\\\n",
    ".asDict()\n",
    "null_col_list = [c for c in null_count if null_count[c] > 0]"
   ]
  },
  {
   "cell_type": "code",
   "execution_count": 11,
   "id": "84284dbb",
   "metadata": {},
   "outputs": [
    {
     "data": {
      "text/plain": [
       "{'vendor_name': 0,\n",
       " 'Trip_Pickup_DateTime': 0,\n",
       " 'Trip_Dropoff_DateTime': 0,\n",
       " 'Passenger_Count': 0,\n",
       " 'Trip_Distance': 0,\n",
       " 'Rate_Code': 140868,\n",
       " 'store_and_forward': 140862,\n",
       " 'Payment_Type': 0,\n",
       " 'Fare_Amt': 0,\n",
       " 'surcharge': 0,\n",
       " 'mta_tax': 140868,\n",
       " 'Tip_Amt': 0,\n",
       " 'Tolls_Amt': 0,\n",
       " 'Total_Amt': 0}"
      ]
     },
     "execution_count": 11,
     "metadata": {},
     "output_type": "execute_result"
    }
   ],
   "source": [
    "null_count"
   ]
  },
  {
   "cell_type": "code",
   "execution_count": 12,
   "id": "d42230a7",
   "metadata": {},
   "outputs": [
    {
     "name": "stdout",
     "output_type": "stream",
     "text": [
      "+---------+-----------------+-------+\n",
      "|Rate_Code|store_and_forward|mta_tax|\n",
      "+---------+-----------------+-------+\n",
      "|   140868|           140862| 140868|\n",
      "+---------+-----------------+-------+\n",
      "\n"
     ]
    }
   ],
   "source": [
    "# We could see below three cols have huge no of Null Values\n",
    "# The Rate_Code and mta_tax is completely null\n",
    "# store_and_forward have few rows present\n",
    "null_col_list = [\"Rate_Code\", \"store_and_forward\", \"mta_tax\"]\n",
    "df.select([F.count(F.when(F.isnan(c) | F.col(c).isNull(), c)).alias(c) for c in null_col_list]).show()"
   ]
  },
  {
   "cell_type": "code",
   "execution_count": 13,
   "id": "244ddec3",
   "metadata": {},
   "outputs": [
    {
     "name": "stdout",
     "output_type": "stream",
     "text": [
      "+---------+-----------------+-------+\n",
      "|Rate_Code|store_and_forward|mta_tax|\n",
      "+---------+-----------------+-------+\n",
      "|        0|                1|      0|\n",
      "+---------+-----------------+-------+\n",
      "\n"
     ]
    }
   ],
   "source": [
    "# Checking no of Distinct values in Null having columns\n",
    "df.select([F.countDistinct(F.col(c)).alias(c) for c in null_col_list]).show()"
   ]
  },
  {
   "cell_type": "code",
   "execution_count": 14,
   "id": "fa89a984",
   "metadata": {},
   "outputs": [
    {
     "name": "stdout",
     "output_type": "stream",
     "text": [
      "+-----------------+------+\n",
      "|store_and_forward| count|\n",
      "+-----------------+------+\n",
      "|              0.0|     6|\n",
      "|             null|140862|\n",
      "+-----------------+------+\n",
      "\n"
     ]
    }
   ],
   "source": [
    "# Count of distinct values on store_and_forward, we could see the values are very small compared to total rows\n",
    "df.select(F.col(\"store_and_forward\")).groupBy('store_and_forward').count().show()"
   ]
  },
  {
   "cell_type": "code",
   "execution_count": 15,
   "id": "0e7a6d4f",
   "metadata": {},
   "outputs": [],
   "source": [
    "# Since the amount of null values is very large compared to total no of records we are dropping those columns\n",
    "df_not_null = df.drop(*null_col_list)"
   ]
  },
  {
   "cell_type": "code",
   "execution_count": 16,
   "id": "3d6705d7",
   "metadata": {},
   "outputs": [
    {
     "name": "stdout",
     "output_type": "stream",
     "text": [
      "root\n",
      " |-- vendor_name: string (nullable = true)\n",
      " |-- Trip_Pickup_DateTime: string (nullable = true)\n",
      " |-- Trip_Dropoff_DateTime: string (nullable = true)\n",
      " |-- Passenger_Count: long (nullable = true)\n",
      " |-- Trip_Distance: double (nullable = true)\n",
      " |-- Payment_Type: string (nullable = true)\n",
      " |-- Fare_Amt: double (nullable = true)\n",
      " |-- surcharge: double (nullable = true)\n",
      " |-- Tip_Amt: double (nullable = true)\n",
      " |-- Tolls_Amt: double (nullable = true)\n",
      " |-- Total_Amt: double (nullable = true)\n",
      "\n"
     ]
    }
   ],
   "source": [
    "df_not_null.printSchema()"
   ]
  },
  {
   "cell_type": "markdown",
   "id": "0134eca3",
   "metadata": {},
   "source": [
    "#### Data Transformation and DateTime"
   ]
  },
  {
   "cell_type": "code",
   "execution_count": 17,
   "id": "d44ad9f9",
   "metadata": {
    "scrolled": true
   },
   "outputs": [
    {
     "name": "stdout",
     "output_type": "stream",
     "text": [
      "+--------------------+---------------------+\n",
      "|Trip_Pickup_DateTime|Trip_Dropoff_DateTime|\n",
      "+--------------------+---------------------+\n",
      "| 2009-01-03 11:05:27|  2009-01-03 11:10:55|\n",
      "| 2009-01-23 00:27:00|  2009-01-23 00:35:00|\n",
      "| 2009-01-18 16:49:45|  2009-01-18 16:56:34|\n",
      "+--------------------+---------------------+\n",
      "only showing top 3 rows\n",
      "\n"
     ]
    }
   ],
   "source": [
    "# Currently the DateTime col are in String format, will check the format\n",
    "date_col = [\"Trip_Pickup_DateTime\", \"Trip_Dropoff_DateTime\"]\n",
    "df_not_null.select(date_col).show(3)"
   ]
  },
  {
   "cell_type": "code",
   "execution_count": 18,
   "id": "42f40836",
   "metadata": {},
   "outputs": [],
   "source": [
    "# We could see the format is %Y-%M-%D %H:%M:%s\n",
    "spark.conf.set(\"spark.sql.legacy.timeParserPolicy\", \"LEGACY\")\n",
    "date_dict_map = {date_c: F.to_timestamp(F.col(date_c)) for date_c in date_col}\n",
    "df_time_parsed = df_not_null.withColumns(date_dict_map)"
   ]
  },
  {
   "cell_type": "code",
   "execution_count": 19,
   "id": "46fbce92",
   "metadata": {},
   "outputs": [
    {
     "name": "stdout",
     "output_type": "stream",
     "text": [
      "root\n",
      " |-- vendor_name: string (nullable = true)\n",
      " |-- Trip_Pickup_DateTime: timestamp (nullable = true)\n",
      " |-- Trip_Dropoff_DateTime: timestamp (nullable = true)\n",
      " |-- Passenger_Count: long (nullable = true)\n",
      " |-- Trip_Distance: double (nullable = true)\n",
      " |-- Payment_Type: string (nullable = true)\n",
      " |-- Fare_Amt: double (nullable = true)\n",
      " |-- surcharge: double (nullable = true)\n",
      " |-- Tip_Amt: double (nullable = true)\n",
      " |-- Tolls_Amt: double (nullable = true)\n",
      " |-- Total_Amt: double (nullable = true)\n",
      "\n"
     ]
    }
   ],
   "source": [
    "df_time_parsed.printSchema()"
   ]
  },
  {
   "cell_type": "code",
   "execution_count": 20,
   "id": "7621b449",
   "metadata": {},
   "outputs": [],
   "source": [
    "# Adding Duration Columns\n",
    "df_date_parsed = df_time_parsed.withColumn(\n",
    "    \"duration\", \n",
    "    F.col(\"Trip_Dropoff_DateTime\").cast(\"long\") - F.col(\"Trip_Pickup_DateTime\").cast(\"long\")\n",
    ")"
   ]
  },
  {
   "cell_type": "code",
   "execution_count": 21,
   "id": "51812924",
   "metadata": {},
   "outputs": [],
   "source": [
    "df_trans = df_date_parsed\\\n",
    ".withColumn(\"fare_per_dist\", F.col(\"Trip_Distance\")/F.col(\"Fare_Amt\"))\\\n",
    ".withColumn(\"tamt_per_dist\", F.col(\"Trip_Distance\")/F.col(\"Total_Amt\"))"
   ]
  },
  {
   "cell_type": "markdown",
   "id": "f8713bef",
   "metadata": {},
   "source": [
    "#### Distinct Values"
   ]
  },
  {
   "cell_type": "code",
   "execution_count": 22,
   "id": "d6e00422",
   "metadata": {},
   "outputs": [
    {
     "name": "stderr",
     "output_type": "stream",
     "text": [
      "/home/joker021/.local/lib/python3.10/site-packages/pyspark/pandas/__init__.py:50: UserWarning: 'PYARROW_IGNORE_TIMEZONE' environment variable was not set. It is required to set this environment variable to '1' in both driver and executor sides if you use pyarrow>=2.0.0. pandas-on-Spark will set it for you but it does not work if there is a Spark context already launched.\n",
      "  warnings.warn(\n",
      "/home/joker021/.local/lib/python3.10/site-packages/pyspark/pandas/utils.py:975: PandasAPIOnSparkAdviceWarning: `to_list` loads all data into the driver's memory. It should only be used if the resulting list is expected to be small.\n",
      "  warnings.warn(message, PandasAPIOnSparkAdviceWarning)\n",
      "                                                                                \r"
     ]
    }
   ],
   "source": [
    "string_cols = [f.name for f in df_date_parsed.schema.fields if isinstance(f.dataType, F.StringType)]\n",
    "distinct_count = df_trans.select([F.countDistinct(F.col(c)).alias(c) for c in string_cols])\n",
    "distinct_count_pd = distinct_count.pandas_api().transpose()\n",
    "dist_cols = distinct_count_pd[distinct_count_pd[0]<50].index.tolist()"
   ]
  },
  {
   "cell_type": "code",
   "execution_count": 23,
   "id": "08211500",
   "metadata": {},
   "outputs": [
    {
     "name": "stdout",
     "output_type": "stream",
     "text": [
      "+-----------+------------+\n",
      "|vendor_name|Payment_Type|\n",
      "+-----------+------------+\n",
      "|          3|           6|\n",
      "+-----------+------------+\n",
      "\n"
     ]
    }
   ],
   "source": [
    "df_trans.select([F.countDistinct(F.col(c)).alias(c) for c in dist_cols]).show()"
   ]
  },
  {
   "cell_type": "code",
   "execution_count": 24,
   "id": "4fb5983c",
   "metadata": {},
   "outputs": [
    {
     "name": "stdout",
     "output_type": "stream",
     "text": [
      "+-----------+\n",
      "|vendor_name|\n",
      "+-----------+\n",
      "|        CMT|\n",
      "|        VTS|\n",
      "|        DDS|\n",
      "+-----------+\n",
      "\n",
      "+------------+\n",
      "|Payment_Type|\n",
      "+------------+\n",
      "|   No Charge|\n",
      "|        CASH|\n",
      "|      Credit|\n",
      "|        Cash|\n",
      "|     Dispute|\n",
      "|      CREDIT|\n",
      "+------------+\n",
      "\n"
     ]
    }
   ],
   "source": [
    "# View Distinct Values\n",
    "for c in dist_cols:\n",
    "    df_trans.select(c).distinct().show()"
   ]
  },
  {
   "cell_type": "code",
   "execution_count": 28,
   "id": "d0fa38b6",
   "metadata": {},
   "outputs": [],
   "source": [
    "# On checking above Data it is seen that Payment_Type have duplicates like CASH an CREDIT with different Case.\n",
    "# Hence tranform them to make same category\n",
    "df_transformed = df_trans.withColumn(\"Payment_Type\", F.upper(F.col(\"Payment_Type\")))"
   ]
  },
  {
   "cell_type": "markdown",
   "id": "2f498fff",
   "metadata": {},
   "source": [
    "#### Duplicates"
   ]
  },
  {
   "cell_type": "code",
   "execution_count": 29,
   "id": "ecc7846b",
   "metadata": {},
   "outputs": [],
   "source": [
    "# Tried distinct method and directly dropDup but both consumed lot of memory, \n",
    "# hence applying a tranformation and removing the duplicates which resulted in same result as direct dropDuplicates\n",
    "# but less mem consumption\n",
    "\n",
    "# We are concating all cols, and then checking dup based on concated col\n",
    "df_drop_by_concat = df_transformed\\\n",
    ".withColumn(\"concat_cols\", F.concat_ws(\"||\", *df_date_parsed.columns))\\\n",
    ".dropDuplicates([\"concat_cols\"])\\\n",
    ".drop(\"concat_cols\")"
   ]
  },
  {
   "cell_type": "code",
   "execution_count": 30,
   "id": "00e55f8f",
   "metadata": {},
   "outputs": [
    {
     "name": "stderr",
     "output_type": "stream",
     "text": [
      "                                                                                \r"
     ]
    },
    {
     "data": {
      "text/plain": [
       "4"
      ]
     },
     "execution_count": 30,
     "metadata": {},
     "output_type": "execute_result"
    }
   ],
   "source": [
    "# Taking count after duplicates\n",
    "cnt_after_drop = df_drop_by_concat.count()\n",
    "\n",
    "# No of Duplciates dropped\n",
    "no_of_row - cnt_after_drop"
   ]
  },
  {
   "cell_type": "code",
   "execution_count": 31,
   "id": "95372cf0",
   "metadata": {},
   "outputs": [],
   "source": [
    "df_cleaned = df_drop_by_concat"
   ]
  },
  {
   "cell_type": "markdown",
   "id": "d0ab8efe",
   "metadata": {},
   "source": [
    "### Data Validation"
   ]
  },
  {
   "cell_type": "markdown",
   "id": "de0b1a0c",
   "metadata": {},
   "source": [
    "#### Schema Validation"
   ]
  },
  {
   "cell_type": "code",
   "execution_count": 32,
   "id": "32b04c60",
   "metadata": {},
   "outputs": [],
   "source": [
    "# Defining Schema for Validation\n",
    "validate_schema = StructType(\n",
    "    [\n",
    "        StructField('vendor_name', StringType(), True), \n",
    "        StructField('Trip_Pickup_DateTime', TimestampType(), True), \n",
    "        StructField('Trip_Dropoff_DateTime', TimestampType(), True), \n",
    "        StructField('Passenger_Count', LongType(), True), \n",
    "        StructField('Trip_Distance', DoubleType(), True), \n",
    "        StructField('Payment_Type', StringType(), True), \n",
    "        StructField('Fare_Amt', DoubleType(), True), \n",
    "        StructField('surcharge', DoubleType(), True), \n",
    "        StructField('Tip_Amt', DoubleType(), True), \n",
    "        StructField('Tolls_Amt', DoubleType(), True),\n",
    "        StructField('Total_Amt', DoubleType(), True),\n",
    "        StructField('duration', LongType(), True),\n",
    "        StructField('fare_per_dist', DoubleType(), True), \n",
    "        StructField('tamt_per_dist', DoubleType(), True)\n",
    "    ]\n",
    ")"
   ]
  },
  {
   "cell_type": "code",
   "execution_count": 33,
   "id": "8945c67d",
   "metadata": {},
   "outputs": [],
   "source": [
    "# Validate Schema\n",
    "assert validate_schema == df_cleaned.schema, \"schema is not valid\""
   ]
  },
  {
   "cell_type": "markdown",
   "id": "bbb33c67",
   "metadata": {},
   "source": [
    "#### Null Value Validation"
   ]
  },
  {
   "cell_type": "code",
   "execution_count": 34,
   "id": "4393f50f",
   "metadata": {},
   "outputs": [],
   "source": [
    "# This method cosumes more memory hence commenting the below, It better to do one by one\n",
    "# is_null_values = df_cleaned.select([F.count(F.when(F.col(c).isNull(), c)).alias(c) for c in df_cleaned.columns]).collect()[0].asDict()\n",
    "# [col for col in is_null_values if is_null_values[col] > 0]"
   ]
  },
  {
   "cell_type": "code",
   "execution_count": 35,
   "id": "bfd8667b",
   "metadata": {},
   "outputs": [
    {
     "name": "stderr",
     "output_type": "stream",
     "text": [
      "[Stage 123:==========================================>              (3 + 1) / 4]\r"
     ]
    },
    {
     "name": "stdout",
     "output_type": "stream",
     "text": [
      "There No Null columns\n"
     ]
    },
    {
     "name": "stderr",
     "output_type": "stream",
     "text": [
      "\r",
      "                                                                                \r"
     ]
    }
   ],
   "source": [
    "# for c in df_cleaned.columns:\n",
    "# #     cnt = df_cleaned.select(c).where(F.col(c).isNull()).count()\n",
    "# #     Experimenting below\n",
    "#     cnt = df_cleaned.where(F.col(c).isNull()).select(c).count()\n",
    "#     if cnt > 0:\n",
    "#         print(c, cnt)\n",
    "# else:\n",
    "#     print(\"There No Null columns\")"
   ]
  },
  {
   "cell_type": "markdown",
   "id": "cffa714d",
   "metadata": {},
   "source": [
    "### Data Analysis"
   ]
  },
  {
   "cell_type": "markdown",
   "id": "15323341",
   "metadata": {},
   "source": [
    "#### Data Aggregations"
   ]
  },
  {
   "cell_type": "code",
   "execution_count": 36,
   "id": "1955f2af",
   "metadata": {},
   "outputs": [
    {
     "name": "stdout",
     "output_type": "stream",
     "text": [
      "root\n",
      " |-- vendor_name: string (nullable = true)\n",
      " |-- Trip_Pickup_DateTime: timestamp (nullable = true)\n",
      " |-- Trip_Dropoff_DateTime: timestamp (nullable = true)\n",
      " |-- Passenger_Count: long (nullable = true)\n",
      " |-- Trip_Distance: double (nullable = true)\n",
      " |-- Payment_Type: string (nullable = true)\n",
      " |-- Fare_Amt: double (nullable = true)\n",
      " |-- surcharge: double (nullable = true)\n",
      " |-- Tip_Amt: double (nullable = true)\n",
      " |-- Tolls_Amt: double (nullable = true)\n",
      " |-- Total_Amt: double (nullable = true)\n",
      " |-- duration: long (nullable = true)\n",
      " |-- fare_per_dist: double (nullable = true)\n",
      " |-- tamt_per_dist: double (nullable = true)\n",
      "\n"
     ]
    }
   ],
   "source": [
    "df_cleaned.printSchema()"
   ]
  },
  {
   "cell_type": "code",
   "execution_count": 37,
   "id": "c02f87cc",
   "metadata": {},
   "outputs": [],
   "source": [
    "# Total and Avergage data per vendor\n",
    "numeric_col = [\"Passenger_Count\", \"Trip_Distance\", \"Fare_Amt\", \"surcharge\", \"Tip_Amt\", \"Tolls_Amt\", \"Total_Amt\", \"duration\"]\n",
    "df_per_vendor = df_cleaned.select(\"vendor_name\",*numeric_col)\\\n",
    ".groupBy(F.col(\"vendor_name\"))\\\n",
    ".agg(\n",
    "    F.count(\"vendor_name\").alias(\"count\"),\n",
    "    *[F.sum(F.col(c)).alias(c+\"_sum\") for c in numeric_col], \n",
    "    *[F.mean(F.col(c)).alias(c+\"_avg\") for c in numeric_col]\n",
    ")"
   ]
  },
  {
   "cell_type": "code",
   "execution_count": 38,
   "id": "ab73efbe",
   "metadata": {},
   "outputs": [],
   "source": [
    "# Parsing from config file\n",
    "conf = configparser.ConfigParser()\n",
    "conf.read(\"config\")\n",
    "data_target_path = conf.get(\"DATA PATH\", \"DataTarget_PATH\")"
   ]
  },
  {
   "cell_type": "code",
   "execution_count": 39,
   "id": "41abbbb7",
   "metadata": {},
   "outputs": [],
   "source": [
    "# Total and Avergage data per hour\n",
    "numeric_col = [\"Passenger_Count\", \"Trip_Distance\", \"Fare_Amt\", \"surcharge\", \"Tip_Amt\", \"Tolls_Amt\", \"Total_Amt\", \"duration\"]\n",
    "df_per_hour = df_cleaned.select(\"Trip_Pickup_DateTime\", *numeric_col)\\\n",
    ".groupBy(F.hour(F.col(\"Trip_Pickup_DateTime\")).alias(\"Hour\"))\\\n",
    ".agg(\n",
    "    F.count(\"*\").alias(\"count\"),\n",
    "    *[F.sum(F.col(c)).alias(c+\"_sum\") for c in numeric_col], \n",
    "    *[F.mean(F.col(c)).alias(c+\"_avg\") for c in numeric_col]\n",
    ")"
   ]
  },
  {
   "cell_type": "code",
   "execution_count": 40,
   "id": "0f59399b",
   "metadata": {},
   "outputs": [],
   "source": [
    "# Total and Avergage data per date\n",
    "numeric_col = [\"Passenger_Count\", \"Trip_Distance\", \"Fare_Amt\", \"surcharge\", \"Tip_Amt\", \"Tolls_Amt\", \"Total_Amt\", \"duration\"]\n",
    "df_per_date = df_cleaned.select(\n",
    "    F.to_date(\"Trip_Pickup_DateTime\", \"yyyy-MM-dd\").alias(\"date\"), \n",
    "    *numeric_col\n",
    ")\\\n",
    ".groupBy(\"date\")\\\n",
    ".agg(\n",
    "    F.count(\"*\").alias(\"count\"),\n",
    "    *[F.sum(F.col(c)).alias(c+\"_sum\") for c in numeric_col], \n",
    "    *[F.mean(F.col(c)).alias(c+\"_avg\") for c in numeric_col]\n",
    ")"
   ]
  },
  {
   "cell_type": "code",
   "execution_count": 41,
   "id": "8ea4c9a6",
   "metadata": {},
   "outputs": [],
   "source": [
    "# Total and Avergage data per week\n",
    "numeric_col = [\"Passenger_Count\", \"Trip_Distance\", \"Fare_Amt\", \"surcharge\", \"Tip_Amt\", \"Tolls_Amt\", \"Total_Amt\", \"duration\"]\n",
    "df_per_week = df_cleaned.select(\"Trip_Pickup_DateTime\", *numeric_col)\\\n",
    ".groupBy(F.weekofyear(F.col(\"Trip_Pickup_DateTime\")).alias(\"WeekOfYear\"))\\\n",
    ".agg(\n",
    "    F.count(\"*\").alias(\"count\"),\n",
    "    *[F.sum(F.col(c)).alias(c+\"_sum\") for c in numeric_col], \n",
    "    *[F.mean(F.col(c)).alias(c+\"_avg\") for c in numeric_col]\n",
    ")"
   ]
  },
  {
   "cell_type": "code",
   "execution_count": 42,
   "id": "4727a8f6",
   "metadata": {},
   "outputs": [],
   "source": [
    "# Total and Avergage data per month\n",
    "numeric_col = [\"Passenger_Count\", \"Trip_Distance\", \"Fare_Amt\", \"surcharge\", \"Tip_Amt\", \"Tolls_Amt\", \"Total_Amt\", \"duration\"]\n",
    "df_per_dayofmonth = df_cleaned.select(\"Trip_Pickup_DateTime\", *numeric_col)\\\n",
    ".groupBy(F.dayofmonth(F.col(\"Trip_Pickup_DateTime\")).alias(\"DayOfMonth\"))\\\n",
    ".agg(\n",
    "    F.count(\"*\").alias(\"count\"),\n",
    "    *[F.sum(F.col(c)).alias(c+\"_sum\") for c in numeric_col], \n",
    "    *[F.mean(F.col(c)).alias(c+\"_avg\") for c in numeric_col]\n",
    ")"
   ]
  },
  {
   "cell_type": "code",
   "execution_count": 43,
   "id": "4548d4b3",
   "metadata": {},
   "outputs": [],
   "source": [
    "# Total and Avergage data per dayOfWeek\n",
    "numeric_col = [\"Passenger_Count\", \"Trip_Distance\", \"Fare_Amt\", \"surcharge\", \"Tip_Amt\", \"Tolls_Amt\", \"Total_Amt\", \"duration\"]\n",
    "df_per_dayofweek = df_cleaned.select(\"Trip_Pickup_DateTime\", *numeric_col)\\\n",
    ".groupBy(F.dayofweek(F.col(\"Trip_Pickup_DateTime\")).alias(\"dayofweek\"))\\\n",
    ".agg(\n",
    "    F.count(\"*\").alias(\"count\"),\n",
    "    *[F.sum(F.col(c)).alias(c+\"_sum\") for c in numeric_col], \n",
    "    *[F.mean(F.col(c)).alias(c+\"_avg\") for c in numeric_col]\n",
    ")"
   ]
  },
  {
   "cell_type": "code",
   "execution_count": 44,
   "id": "955301a6",
   "metadata": {},
   "outputs": [],
   "source": [
    "numeric_col = [\"Passenger_Count\", \"Trip_Distance\", \"Fare_Amt\", \"surcharge\", \"Tip_Amt\", \"Tolls_Amt\", \"Total_Amt\", \"duration\"]\n",
    "df_per_payment_type = df_cleaned.select(\"Payment_Type\",*numeric_col)\\\n",
    ".groupBy(F.col(\"Payment_Type\"))\\\n",
    ".agg(\n",
    "    F.count(\"*\").alias(\"count\"),\n",
    "    *[F.sum(F.col(c)).alias(c+\"_sum\") for c in numeric_col], \n",
    "    *[F.mean(F.col(c)).alias(c+\"_avg\") for c in numeric_col]\n",
    ")"
   ]
  },
  {
   "cell_type": "code",
   "execution_count": 45,
   "id": "4d553cd4",
   "metadata": {},
   "outputs": [],
   "source": [
    "df_cnt_payment_cnt_per_vendor = df_cleaned\\\n",
    ".select(\"vendor_name\", \"Payment_Type\")\\\n",
    ".groupBy(\"vendor_name\", \"Payment_Type\")\\\n",
    ".count()"
   ]
  },
  {
   "cell_type": "markdown",
   "id": "1590404e",
   "metadata": {},
   "source": [
    "### Data Load"
   ]
  },
  {
   "cell_type": "markdown",
   "id": "7b69567e",
   "metadata": {},
   "source": [
    "The below analzed data is stored in parquet in Target Location for Visualization"
   ]
  },
  {
   "cell_type": "code",
   "execution_count": 46,
   "id": "4a74ea1b",
   "metadata": {},
   "outputs": [
    {
     "name": "stderr",
     "output_type": "stream",
     "text": [
      "23/05/16 18:39:33 WARN package: Truncated the string representation of a plan since it was too large. This behavior can be adjusted by setting 'spark.sql.debug.maxToStringFields'.\n",
      "                                                                                \r"
     ]
    }
   ],
   "source": [
    "df_per_vendor.write.mode('append').parquet(data_target_path+\"df_per_vendor\")"
   ]
  },
  {
   "cell_type": "code",
   "execution_count": 47,
   "id": "a874fe0f",
   "metadata": {},
   "outputs": [
    {
     "name": "stderr",
     "output_type": "stream",
     "text": [
      "                                                                                \r"
     ]
    }
   ],
   "source": [
    "df_per_hour.write.mode('append').parquet(data_target_path+\"df_per_hour\")"
   ]
  },
  {
   "cell_type": "code",
   "execution_count": 48,
   "id": "6b2eeff4",
   "metadata": {},
   "outputs": [
    {
     "name": "stderr",
     "output_type": "stream",
     "text": [
      "                                                                                \r"
     ]
    }
   ],
   "source": [
    "df_per_date.write.mode('append').parquet(data_target_path+\"df_per_date\")"
   ]
  },
  {
   "cell_type": "code",
   "execution_count": 49,
   "id": "9cc6a3c8",
   "metadata": {},
   "outputs": [
    {
     "name": "stderr",
     "output_type": "stream",
     "text": [
      "                                                                                \r"
     ]
    }
   ],
   "source": [
    "df_per_dayofmonth.write.mode('append').parquet(data_target_path+\"df_per_dayofweek\")"
   ]
  },
  {
   "cell_type": "code",
   "execution_count": 50,
   "id": "0c68739f",
   "metadata": {},
   "outputs": [
    {
     "name": "stderr",
     "output_type": "stream",
     "text": [
      "                                                                                \r"
     ]
    }
   ],
   "source": [
    "df_per_week.write.mode('append').parquet(data_target_path+\"df_per_week\")"
   ]
  },
  {
   "cell_type": "code",
   "execution_count": 51,
   "id": "4cf68c6c",
   "metadata": {},
   "outputs": [
    {
     "name": "stderr",
     "output_type": "stream",
     "text": [
      "                                                                                \r"
     ]
    }
   ],
   "source": [
    "df_per_dayofweek.write.mode('append').parquet(data_target_path+\"df_per_dayofweek\")"
   ]
  },
  {
   "cell_type": "code",
   "execution_count": 52,
   "id": "9fbcbbd6",
   "metadata": {},
   "outputs": [
    {
     "name": "stderr",
     "output_type": "stream",
     "text": [
      "                                                                                \r"
     ]
    }
   ],
   "source": [
    "df_per_payment_type.write.mode('append').parquet(data_target_path+\"df_per_payment_type\")"
   ]
  },
  {
   "cell_type": "code",
   "execution_count": 53,
   "id": "bc45bbda",
   "metadata": {},
   "outputs": [
    {
     "name": "stderr",
     "output_type": "stream",
     "text": [
      "                                                                                \r"
     ]
    }
   ],
   "source": [
    "df_cnt_payment_cnt_per_vendor.write.mode('append').parquet(data_target_path+\"df_cnt_payment_cnt_per_vendor\")"
   ]
  },
  {
   "cell_type": "code",
   "execution_count": null,
   "id": "efbaca11",
   "metadata": {},
   "outputs": [],
   "source": []
  }
 ],
 "metadata": {
  "kernelspec": {
   "display_name": "Python 3 (ipykernel)",
   "language": "python",
   "name": "python3"
  },
  "language_info": {
   "codemirror_mode": {
    "name": "ipython",
    "version": 3
   },
   "file_extension": ".py",
   "mimetype": "text/x-python",
   "name": "python",
   "nbconvert_exporter": "python",
   "pygments_lexer": "ipython3",
   "version": "3.10.6"
  }
 },
 "nbformat": 4,
 "nbformat_minor": 5
}
