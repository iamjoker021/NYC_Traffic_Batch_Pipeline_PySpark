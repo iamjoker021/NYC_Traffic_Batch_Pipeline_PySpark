{
 "cells": [
  {
   "cell_type": "markdown",
   "id": "3166e69e",
   "metadata": {},
   "source": [
    "## Problem Statement:\n",
    "\n",
    "The Taxi and Limousine Commission (TLC) of New York City collects trip record data from licensed taxis and for-hire vehicles (FHVs) and provides it to the public. The data includes details such as pick-up and drop-off times, locations, passenger counts, and payment information for each trip. As a data engineer, your task is to build a batch data processing pipeline using PySpark to process and analyze this data to gain insights into taxi and FHV trips in New York City."
   ]
  },
  {
   "cell_type": "markdown",
   "id": "c335dd09",
   "metadata": {},
   "source": [
    "### Goals:\n",
    "\n",
    "Data ingestion: Download the trip record data from the NYC TLC website and ingest it into the pipeline for further processing.\n",
    "\n",
    "Data cleaning and validation: Perform data quality checks and validation to ensure that the data is clean and consistent. Identify and remove duplicates, null values, and other data quality issues that may impact downstream analysis.\n",
    "\n",
    "Data transformation: Transform the raw trip record data into a format that is optimized for analysis. This may include aggregating the data by time periods, geographical regions, and other factors of interest.\n",
    "\n",
    "Data analysis: Use PySpark to perform statistical analysis, data exploration, and data visualization to gain insights into taxi and FHV trips in New York City. This may include identifying popular pick-up and drop-off locations, peak trip times, and other patterns and trends in the data.\n",
    "\n",
    "Data storage: Store the processed and analyzed data in a suitable data storage system such as Hadoop Distributed File System (HDFS) or Apache Cassandra for future use.\n",
    "\n",
    "Automation and scheduling: Automate the data processing pipeline using tools such as Apache Airflow or Apache Oozie. Schedule the pipeline to run at regular intervals to ensure that the data is up to date and accurate.\n",
    "\n",
    "---\n",
    "\n",
    "The overall goal of the project is to build a batch data processing pipeline using PySpark to extract insights from the NYC TLC trip record data. The pipeline should be scalable, efficient, and automated to enable easy data processing and analysis."
   ]
  },
  {
   "cell_type": "markdown",
   "id": "03d1cf91",
   "metadata": {},
   "source": [
    "### Import Libraries and Intiate Spark session"
   ]
  },
  {
   "cell_type": "code",
   "execution_count": 1,
   "id": "2475ec2c",
   "metadata": {},
   "outputs": [],
   "source": [
    "import configparser\n",
    "\n",
    "import pandas as pd\n",
    "\n",
    "from pyspark.sql import SparkSession\n",
    "import pyspark.sql.functions as F\n",
    "from pyspark.sql.types import StructType, StructField, StringType, DoubleType, LongType, TimestampType"
   ]
  },
  {
   "cell_type": "code",
   "execution_count": 2,
   "id": "ea5775a5",
   "metadata": {},
   "outputs": [],
   "source": [
    "spark = SparkSession.builder.appName(\"nyc_batch_pipeline\").getOrCreate()"
   ]
  },
  {
   "cell_type": "code",
   "execution_count": 3,
   "id": "4fba643c",
   "metadata": {},
   "outputs": [],
   "source": [
    "spark"
   ]
  },
  {
   "cell_type": "markdown",
   "id": "6212656a",
   "metadata": {},
   "source": [
    "### Data Ingestion"
   ]
  },
  {
   "cell_type": "code",
   "execution_count": 4,
   "id": "53e32b90",
   "metadata": {},
   "outputs": [],
   "source": [
    "# Parsing from config file\n",
    "conf = configparser.ConfigParser()\n",
    "conf.read(\"config\")\n",
    "data_source_path = conf.get(\"DATASOURCE PATH\", \"PATH\")\n",
    "\n",
    "# Reading the DataSource from PySpark\n",
    "df = spark.read.parquet(data_source_path)"
   ]
  },
  {
   "cell_type": "code",
   "execution_count": 5,
   "id": "abda0891",
   "metadata": {},
   "outputs": [],
   "source": [
    "print(f\"No of Partitons: {df.rdd.getNumPartitions()}\")"
   ]
  },
  {
   "cell_type": "code",
   "execution_count": 6,
   "id": "ae8bd3c3",
   "metadata": {},
   "outputs": [],
   "source": [
    "# Schema\n",
    "df.printSchema()"
   ]
  },
  {
   "cell_type": "markdown",
   "id": "f21617cf",
   "metadata": {},
   "source": [
    "### Data Cleaning And Validation"
   ]
  },
  {
   "cell_type": "markdown",
   "id": "f90c037c",
   "metadata": {},
   "source": [
    "#### Missing Values"
   ]
  },
  {
   "cell_type": "code",
   "execution_count": 7,
   "id": "964441b2",
   "metadata": {},
   "outputs": [],
   "source": [
    "no_of_row = df.count()\n",
    "print(f\"No of Rows: {no_of_row}\")\n",
    "print(f\"No of cols: {len(df.columns)}\")"
   ]
  },
  {
   "cell_type": "code",
   "execution_count": 8,
   "id": "3a5f82da",
   "metadata": {},
   "outputs": [],
   "source": [
    "# Get No of Null vlaues per columns\n",
    "null_count = df.select([F.count(F.when(F.isnan(c) | F.col(c).isNull(), c)).alias(c) for c in df.columns])\n",
    "null_df = null_count.pandas_api().transpose()"
   ]
  },
  {
   "cell_type": "code",
   "execution_count": 9,
   "id": "82d5b30c",
   "metadata": {},
   "outputs": [],
   "source": [
    "null_col_list = null_df[null_df[0] > 0].index.to_list()"
   ]
  },
  {
   "cell_type": "code",
   "execution_count": 10,
   "id": "d42230a7",
   "metadata": {},
   "outputs": [],
   "source": [
    "# We could see below three cols have huge no of Null Values\n",
    "# The Rate_Code and mta_tax is completely null\n",
    "# store_and_forward have few rows present\n",
    "null_col_list = [\"Rate_Code\", \"store_and_forward\", \"mta_tax\"]\n",
    "df.select([F.count(F.when(F.isnan(c) | F.col(c).isNull(), c)).alias(c) for c in null_col_list]).show()"
   ]
  },
  {
   "cell_type": "code",
   "execution_count": 11,
   "id": "244ddec3",
   "metadata": {},
   "outputs": [],
   "source": [
    "# Checking no of Distinct values in Null having columns\n",
    "df.select([F.countDistinct(F.col(c)).alias(c) for c in null_col_list]).show()"
   ]
  },
  {
   "cell_type": "code",
   "execution_count": 12,
   "id": "fa89a984",
   "metadata": {},
   "outputs": [],
   "source": [
    "# Count of distinct values on store_and_forward, we could see the values are very small compared to total rows\n",
    "df.select(F.col(\"store_and_forward\")).groupBy('store_and_forward').count().show()"
   ]
  },
  {
   "cell_type": "code",
   "execution_count": 13,
   "id": "0e7a6d4f",
   "metadata": {},
   "outputs": [],
   "source": [
    "# Since the amount of null values is very large compared to total no of records we are dropping those columns\n",
    "df_not_null = df.drop(*null_col_list)"
   ]
  },
  {
   "cell_type": "code",
   "execution_count": 14,
   "id": "3d6705d7",
   "metadata": {},
   "outputs": [],
   "source": [
    "df_not_null.printSchema()"
   ]
  },
  {
   "cell_type": "markdown",
   "id": "0134eca3",
   "metadata": {},
   "source": [
    "#### DateTime"
   ]
  },
  {
   "cell_type": "code",
   "execution_count": 15,
   "id": "d44ad9f9",
   "metadata": {},
   "outputs": [],
   "source": [
    "# Currently the DateTime col are in String format, will check the format\n",
    "date_col = [\"Trip_Pickup_DateTime\", \"Trip_Dropoff_DateTime\"]\n",
    "df_not_null.select(date_col).show(3)"
   ]
  },
  {
   "cell_type": "code",
   "execution_count": 16,
   "id": "42f40836",
   "metadata": {},
   "outputs": [],
   "source": [
    "# We could see the format is %Y-%M-%D %H:%M:%s\n",
    "spark.conf.set(\"spark.sql.legacy.timeParserPolicy\", \"LEGACY\")\n",
    "date_dict_map = {date_c: F.to_timestamp(F.col(date_c)) for date_c in date_col}\n",
    "df_date_parsed = df_not_null.withColumns(date_dict_map)"
   ]
  },
  {
   "cell_type": "code",
   "execution_count": 17,
   "id": "46fbce92",
   "metadata": {},
   "outputs": [],
   "source": [
    "df_date_parsed.printSchema()"
   ]
  },
  {
   "cell_type": "markdown",
   "id": "f8713bef",
   "metadata": {},
   "source": [
    "#### Distinct Values"
   ]
  },
  {
   "cell_type": "code",
   "execution_count": 18,
   "id": "d6e00422",
   "metadata": {},
   "outputs": [],
   "source": [
    "string_cols = [f.name for f in df_date_parsed.schema.fields if isinstance(f.dataType, F.StringType)]\n",
    "distinct_count = df_date_parsed.select([F.countDistinct(F.col(c)).alias(c) for c in string_cols])\n",
    "distinct_count_pd = distinct_count.pandas_api().transpose()\n",
    "dist_cols = distinct_count_pd[distinct_count_pd[0]<50].index.tolist()"
   ]
  },
  {
   "cell_type": "code",
   "execution_count": 19,
   "id": "08211500",
   "metadata": {},
   "outputs": [],
   "source": [
    "df_date_parsed.select([F.countDistinct(F.col(c)).alias(c) for c in dist_cols]).show()"
   ]
  },
  {
   "cell_type": "code",
   "execution_count": 20,
   "id": "4fb5983c",
   "metadata": {},
   "outputs": [],
   "source": [
    "# View Distinct Values\n",
    "for c in dist_cols:\n",
    "    df_date_parsed.select(c).distinct().show()"
   ]
  },
  {
   "cell_type": "markdown",
   "id": "2f498fff",
   "metadata": {},
   "source": [
    "#### Duplicates"
   ]
  },
  {
   "cell_type": "code",
   "execution_count": 21,
   "id": "51cc1600",
   "metadata": {},
   "outputs": [],
   "source": [
    "#check for duplicate values\n",
    "df_dup_drop = df_date_parsed.dropDuplicates()"
   ]
  },
  {
   "cell_type": "code",
   "execution_count": 22,
   "id": "aece89bb",
   "metadata": {},
   "outputs": [],
   "source": [
    "# Taking count after duplicates\n",
    "cnt_after_drop = df_dup_drop.count()\n",
    "\n",
    "# No of Duplciates dropped\n",
    "no_of_row - cnt_after_drop"
   ]
  },
  {
   "cell_type": "code",
   "execution_count": 23,
   "id": "0d42b2b2",
   "metadata": {},
   "outputs": [],
   "source": [
    "df_cleaned = df_dup_drop"
   ]
  },
  {
   "cell_type": "markdown",
   "id": "d0ab8efe",
   "metadata": {},
   "source": [
    "### Data Validation"
   ]
  },
  {
   "cell_type": "markdown",
   "id": "de0b1a0c",
   "metadata": {},
   "source": [
    "#### Schema Validation"
   ]
  },
  {
   "cell_type": "code",
   "execution_count": 24,
   "id": "32b04c60",
   "metadata": {},
   "outputs": [],
   "source": [
    "# Defining Schema for Validation\n",
    "validate_schema = StructType(\n",
    "    [\n",
    "        StructField('vendor_name', StringType(), True), \n",
    "        StructField('Trip_Pickup_DateTime', TimestampType(), True), \n",
    "        StructField('Trip_Dropoff_DateTime', TimestampType(), True), \n",
    "        StructField('Passenger_Count', LongType(), True), \n",
    "        StructField('Trip_Distance', DoubleType(), True), \n",
    "        StructField('Start_Lon', DoubleType(), True), \n",
    "        StructField('Start_Lat', DoubleType(), True), \n",
    "        StructField('End_Lon', DoubleType(), True), \n",
    "        StructField('End_Lat', DoubleType(), True), \n",
    "        StructField('Payment_Type', StringType(), True), \n",
    "        StructField('Fare_Amt', DoubleType(), True), \n",
    "        StructField('surcharge', DoubleType(), True), \n",
    "        StructField('Tip_Amt', DoubleType(), True), \n",
    "        StructField('Tolls_Amt', DoubleType(), True),\n",
    "        StructField('Total_Amt', DoubleType(), True)\n",
    "    ]\n",
    ")"
   ]
  },
  {
   "cell_type": "code",
   "execution_count": 25,
   "id": "8945c67d",
   "metadata": {},
   "outputs": [],
   "source": [
    "# Validate Schema\n",
    "assert validate_schema == df_cleaned.schema, \"schema is not valid\""
   ]
  },
  {
   "cell_type": "markdown",
   "id": "bbb33c67",
   "metadata": {},
   "source": [
    "#### Null Value Validation"
   ]
  },
  {
   "cell_type": "code",
   "execution_count": 26,
   "id": "4393f50f",
   "metadata": {},
   "outputs": [],
   "source": [
    "# This method cosumes more memory hence commenting the below, It better to do one by one\n",
    "# is_null_values = df_cleaned.select([F.count(F.when(F.col(c).isNull(), c)).alias(c) for c in df_cleaned.columns]).collect()[0].asDict()\n",
    "# [col for col in is_null_values if is_null_values[col] > 0]"
   ]
  },
  {
   "cell_type": "code",
   "execution_count": 27,
   "id": "bfd8667b",
   "metadata": {},
   "outputs": [],
   "source": [
    "for c in df_cleaned.columns:\n",
    "    cnt = df_cleaned.select(c).where(F.col(c).isNull()).count()\n",
    "    if cnt > 0:\n",
    "        print(c, cnt)\n",
    "else:\n",
    "    print(\"There No Null columns\")"
   ]
  },
  {
   "cell_type": "markdown",
   "id": "8817a8c0",
   "metadata": {},
   "source": [
    "#### Data Range Validation"
   ]
  },
  {
   "cell_type": "code",
   "execution_count": null,
   "id": "f9e2a3df",
   "metadata": {},
   "outputs": [],
   "source": []
  }
 ],
 "metadata": {
  "kernelspec": {
   "display_name": "Python 3 (ipykernel)",
   "language": "python",
   "name": "python3"
  },
  "language_info": {
   "codemirror_mode": {
    "name": "ipython",
    "version": 3
   },
   "file_extension": ".py",
   "mimetype": "text/x-python",
   "name": "python",
   "nbconvert_exporter": "python",
   "pygments_lexer": "ipython3",
   "version": "3.10.6"
  }
 },
 "nbformat": 4,
 "nbformat_minor": 5
}
