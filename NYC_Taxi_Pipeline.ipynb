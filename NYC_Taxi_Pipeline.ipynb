{
 "cells": [
  {
   "cell_type": "markdown",
   "id": "3166e69e",
   "metadata": {},
   "source": [
    "## Problem Statement:\n",
    "\n",
    "The Taxi and Limousine Commission (TLC) of New York City collects trip record data from licensed taxis and for-hire vehicles (FHVs) and provides it to the public. The data includes details such as pick-up and drop-off times, locations, passenger counts, and payment information for each trip. As a data engineer, your task is to build a batch data processing pipeline using PySpark to process and analyze this data to gain insights into taxi and FHV trips in New York City."
   ]
  },
  {
   "cell_type": "markdown",
   "id": "c335dd09",
   "metadata": {},
   "source": [
    "### Goals:\n",
    "\n",
    "Data ingestion: Download the trip record data from the NYC TLC website and ingest it into the pipeline for further processing.\n",
    "\n",
    "Data cleaning and validation: Perform data quality checks and validation to ensure that the data is clean and consistent. Identify and remove duplicates, null values, and other data quality issues that may impact downstream analysis.\n",
    "\n",
    "Data transformation: Transform the raw trip record data into a format that is optimized for analysis. This may include aggregating the data by time periods, geographical regions, and other factors of interest.\n",
    "\n",
    "Data analysis: Use PySpark to perform statistical analysis, data exploration, and data visualization to gain insights into taxi and FHV trips in New York City. This may include identifying popular pick-up and drop-off locations, peak trip times, and other patterns and trends in the data.\n",
    "\n",
    "Data storage: Store the processed and analyzed data in a suitable data storage system such as Hadoop Distributed File System (HDFS) or Apache Cassandra for future use.\n",
    "\n",
    "Automation and scheduling: Automate the data processing pipeline using tools such as Apache Airflow or Apache Oozie. Schedule the pipeline to run at regular intervals to ensure that the data is up to date and accurate.\n",
    "\n",
    "---\n",
    "\n",
    "The overall goal of the project is to build a batch data processing pipeline using PySpark to extract insights from the NYC TLC trip record data. The pipeline should be scalable, efficient, and automated to enable easy data processing and analysis."
   ]
  },
  {
   "cell_type": "markdown",
   "id": "03d1cf91",
   "metadata": {},
   "source": [
    "### Import Libraries and Intiate Spark session"
   ]
  },
  {
   "cell_type": "code",
   "execution_count": 1,
   "id": "2475ec2c",
   "metadata": {},
   "outputs": [],
   "source": [
    "import configparser\n",
    "\n",
    "import pandas as pd\n",
    "\n",
    "from pyspark.sql import SparkSession\n",
    "import pyspark.sql.functions as F\n",
    "import pyspark.sql.types as T"
   ]
  },
  {
   "cell_type": "code",
   "execution_count": 2,
   "id": "ea5775a5",
   "metadata": {},
   "outputs": [
    {
     "name": "stderr",
     "output_type": "stream",
     "text": [
      "23/05/14 17:06:06 WARN Utils: Your hostname, joker021-VirtualBox resolves to a loopback address: 127.0.1.1; using 10.0.2.15 instead (on interface enp0s3)\n",
      "23/05/14 17:06:06 WARN Utils: Set SPARK_LOCAL_IP if you need to bind to another address\n",
      "Setting default log level to \"WARN\".\n",
      "To adjust logging level use sc.setLogLevel(newLevel). For SparkR, use setLogLevel(newLevel).\n",
      "23/05/14 17:06:07 WARN NativeCodeLoader: Unable to load native-hadoop library for your platform... using builtin-java classes where applicable\n"
     ]
    }
   ],
   "source": [
    "spark = SparkSession.builder.appName(\"nyc_batch_pipeline\").getOrCreate()"
   ]
  },
  {
   "cell_type": "code",
   "execution_count": 3,
   "id": "4fba643c",
   "metadata": {},
   "outputs": [
    {
     "data": {
      "text/html": [
       "\n",
       "            <div>\n",
       "                <p><b>SparkSession - in-memory</b></p>\n",
       "                \n",
       "        <div>\n",
       "            <p><b>SparkContext</b></p>\n",
       "\n",
       "            <p><a href=\"http://10.0.2.15:4040\">Spark UI</a></p>\n",
       "\n",
       "            <dl>\n",
       "              <dt>Version</dt>\n",
       "                <dd><code>v3.4.0</code></dd>\n",
       "              <dt>Master</dt>\n",
       "                <dd><code>local[*]</code></dd>\n",
       "              <dt>AppName</dt>\n",
       "                <dd><code>nyc_batch_pipeline</code></dd>\n",
       "            </dl>\n",
       "        </div>\n",
       "        \n",
       "            </div>\n",
       "        "
      ],
      "text/plain": [
       "<pyspark.sql.session.SparkSession at 0x7f4a90a8d060>"
      ]
     },
     "execution_count": 3,
     "metadata": {},
     "output_type": "execute_result"
    }
   ],
   "source": [
    "spark"
   ]
  },
  {
   "cell_type": "markdown",
   "id": "6212656a",
   "metadata": {},
   "source": [
    "### Data Ingestion"
   ]
  },
  {
   "cell_type": "code",
   "execution_count": 4,
   "id": "53e32b90",
   "metadata": {},
   "outputs": [
    {
     "name": "stderr",
     "output_type": "stream",
     "text": [
      "\r",
      "[Stage 0:>                                                          (0 + 1) / 1]\r",
      "\r",
      "                                                                                \r"
     ]
    }
   ],
   "source": [
    "# Parsing from config file\n",
    "conf = configparser.ConfigParser()\n",
    "conf.read(\"config\")\n",
    "data_source_path = conf.get(\"DATASOURCE PATH\", \"PATH\")\n",
    "\n",
    "# Reading the DataSource from PySpark\n",
    "df = spark.read.parquet(data_source_path)"
   ]
  },
  {
   "cell_type": "code",
   "execution_count": 5,
   "id": "abda0891",
   "metadata": {},
   "outputs": [
    {
     "name": "stdout",
     "output_type": "stream",
     "text": [
      "No of Partitons: 4\n"
     ]
    }
   ],
   "source": [
    "print(f\"No of Partitons: {df.rdd.getNumPartitions()}\")"
   ]
  },
  {
   "cell_type": "code",
   "execution_count": 6,
   "id": "ae8bd3c3",
   "metadata": {},
   "outputs": [
    {
     "name": "stdout",
     "output_type": "stream",
     "text": [
      "root\n",
      " |-- vendor_name: string (nullable = true)\n",
      " |-- Trip_Pickup_DateTime: string (nullable = true)\n",
      " |-- Trip_Dropoff_DateTime: string (nullable = true)\n",
      " |-- Passenger_Count: long (nullable = true)\n",
      " |-- Trip_Distance: double (nullable = true)\n",
      " |-- Start_Lon: double (nullable = true)\n",
      " |-- Start_Lat: double (nullable = true)\n",
      " |-- Rate_Code: double (nullable = true)\n",
      " |-- store_and_forward: double (nullable = true)\n",
      " |-- End_Lon: double (nullable = true)\n",
      " |-- End_Lat: double (nullable = true)\n",
      " |-- Payment_Type: string (nullable = true)\n",
      " |-- Fare_Amt: double (nullable = true)\n",
      " |-- surcharge: double (nullable = true)\n",
      " |-- mta_tax: double (nullable = true)\n",
      " |-- Tip_Amt: double (nullable = true)\n",
      " |-- Tolls_Amt: double (nullable = true)\n",
      " |-- Total_Amt: double (nullable = true)\n",
      "\n"
     ]
    }
   ],
   "source": [
    "# Schema\n",
    "df.printSchema()"
   ]
  },
  {
   "cell_type": "markdown",
   "id": "f21617cf",
   "metadata": {},
   "source": [
    "### Data Cleaning And Validation"
   ]
  },
  {
   "cell_type": "markdown",
   "id": "f90c037c",
   "metadata": {},
   "source": [
    "#### Missing Values"
   ]
  },
  {
   "cell_type": "code",
   "execution_count": 7,
   "id": "964441b2",
   "metadata": {},
   "outputs": [
    {
     "name": "stdout",
     "output_type": "stream",
     "text": [
      "No of Rows: 14092413\n",
      "No of cols: 18\n"
     ]
    }
   ],
   "source": [
    "no_of_row = df.count()\n",
    "print(f\"No of Rows: {no_of_row}\")\n",
    "print(f\"No of cols: {len(df.columns)}\")"
   ]
  },
  {
   "cell_type": "code",
   "execution_count": 8,
   "id": "3a5f82da",
   "metadata": {},
   "outputs": [
    {
     "name": "stderr",
     "output_type": "stream",
     "text": [
      "/home/joker021/.local/lib/python3.10/site-packages/pyspark/pandas/__init__.py:50: UserWarning: 'PYARROW_IGNORE_TIMEZONE' environment variable was not set. It is required to set this environment variable to '1' in both driver and executor sides if you use pyarrow>=2.0.0. pandas-on-Spark will set it for you but it does not work if there is a Spark context already launched.\n",
      "  warnings.warn(\n",
      "                                                                                \r"
     ]
    }
   ],
   "source": [
    "# Get No of Null vlaues per columns\n",
    "null_count = df.select([F.count(F.when(F.isnan(c) | F.col(c).isNull(), c)).alias(c) for c in df.columns])\n",
    "null_df = null_count.pandas_api().transpose()"
   ]
  },
  {
   "cell_type": "code",
   "execution_count": 9,
   "id": "82d5b30c",
   "metadata": {},
   "outputs": [
    {
     "name": "stderr",
     "output_type": "stream",
     "text": [
      "/home/joker021/.local/lib/python3.10/site-packages/pyspark/pandas/utils.py:975: PandasAPIOnSparkAdviceWarning: `to_list` loads all data into the driver's memory. It should only be used if the resulting list is expected to be small.\n",
      "  warnings.warn(message, PandasAPIOnSparkAdviceWarning)\n",
      "                                                                                \r"
     ]
    }
   ],
   "source": [
    "null_col_list = null_df[null_df[0] > 0].index.to_list()"
   ]
  },
  {
   "cell_type": "code",
   "execution_count": 10,
   "id": "d42230a7",
   "metadata": {},
   "outputs": [
    {
     "name": "stdout",
     "output_type": "stream",
     "text": [
      "+---------+-----------------+--------+\n",
      "|Rate_Code|store_and_forward| mta_tax|\n",
      "+---------+-----------------+--------+\n",
      "| 14092413|         14091189|14092413|\n",
      "+---------+-----------------+--------+\n",
      "\n"
     ]
    }
   ],
   "source": [
    "# We could see below three cols have huge no of Null Values\n",
    "# The Rate_Code and mta_tax is completely null\n",
    "# store_and_forward have few rows present\n",
    "null_col_list = [\"Rate_Code\", \"store_and_forward\", \"mta_tax\"]\n",
    "df.select([F.count(F.when(F.isnan(c) | F.col(c).isNull(), c)).alias(c) for c in null_col_list]).show()"
   ]
  },
  {
   "cell_type": "code",
   "execution_count": 13,
   "id": "244ddec3",
   "metadata": {},
   "outputs": [
    {
     "name": "stderr",
     "output_type": "stream",
     "text": [
      "\r",
      "[Stage 17:===========================================>              (3 + 1) / 4]\r"
     ]
    },
    {
     "name": "stdout",
     "output_type": "stream",
     "text": [
      "+---------+-----------------+-------+\n",
      "|Rate_Code|store_and_forward|mta_tax|\n",
      "+---------+-----------------+-------+\n",
      "|        0|                2|      0|\n",
      "+---------+-----------------+-------+\n",
      "\n"
     ]
    },
    {
     "name": "stderr",
     "output_type": "stream",
     "text": [
      "\r",
      "                                                                                \r"
     ]
    }
   ],
   "source": [
    "# Checking no of Distinct values in Null having columns\n",
    "df.select([F.countDistinct(F.col(c)).alias(c) for c in null_col_list]).show()"
   ]
  },
  {
   "cell_type": "code",
   "execution_count": 14,
   "id": "fa89a984",
   "metadata": {},
   "outputs": [
    {
     "name": "stdout",
     "output_type": "stream",
     "text": [
      "+-----------------+--------+\n",
      "|store_and_forward|   count|\n",
      "+-----------------+--------+\n",
      "|              0.0|    1212|\n",
      "|             null|14091189|\n",
      "|              1.0|      12|\n",
      "+-----------------+--------+\n",
      "\n"
     ]
    }
   ],
   "source": [
    "# Count of distinct values on store_and_forward, we could see the values are very small compared to total rows\n",
    "df.select(F.col(\"store_and_forward\")).groupBy('store_and_forward').count().show()"
   ]
  },
  {
   "cell_type": "code",
   "execution_count": 15,
   "id": "0e7a6d4f",
   "metadata": {},
   "outputs": [],
   "source": [
    "# Since the amount of null values is very large compared to total no of records we are dropping those columns\n",
    "df_not_null = df.drop(*null_col_list)"
   ]
  },
  {
   "cell_type": "code",
   "execution_count": 16,
   "id": "3d6705d7",
   "metadata": {},
   "outputs": [
    {
     "name": "stdout",
     "output_type": "stream",
     "text": [
      "root\n",
      " |-- vendor_name: string (nullable = true)\n",
      " |-- Trip_Pickup_DateTime: string (nullable = true)\n",
      " |-- Trip_Dropoff_DateTime: string (nullable = true)\n",
      " |-- Passenger_Count: long (nullable = true)\n",
      " |-- Trip_Distance: double (nullable = true)\n",
      " |-- Start_Lon: double (nullable = true)\n",
      " |-- Start_Lat: double (nullable = true)\n",
      " |-- End_Lon: double (nullable = true)\n",
      " |-- End_Lat: double (nullable = true)\n",
      " |-- Payment_Type: string (nullable = true)\n",
      " |-- Fare_Amt: double (nullable = true)\n",
      " |-- surcharge: double (nullable = true)\n",
      " |-- Tip_Amt: double (nullable = true)\n",
      " |-- Tolls_Amt: double (nullable = true)\n",
      " |-- Total_Amt: double (nullable = true)\n",
      "\n"
     ]
    }
   ],
   "source": [
    "df_not_null.printSchema()"
   ]
  },
  {
   "cell_type": "markdown",
   "id": "0134eca3",
   "metadata": {},
   "source": [
    "#### DateTime"
   ]
  },
  {
   "cell_type": "code",
   "execution_count": 17,
   "id": "d44ad9f9",
   "metadata": {},
   "outputs": [
    {
     "name": "stdout",
     "output_type": "stream",
     "text": [
      "+--------------------+---------------------+\n",
      "|Trip_Pickup_DateTime|Trip_Dropoff_DateTime|\n",
      "+--------------------+---------------------+\n",
      "| 2009-01-04 02:52:00|  2009-01-04 03:02:00|\n",
      "| 2009-01-04 03:31:00|  2009-01-04 03:38:00|\n",
      "| 2009-01-03 15:43:00|  2009-01-03 15:57:00|\n",
      "+--------------------+---------------------+\n",
      "only showing top 3 rows\n",
      "\n"
     ]
    }
   ],
   "source": [
    "# Currently the DateTime col are in String format, will check the format\n",
    "date_col = [\"Trip_Pickup_DateTime\", \"Trip_Dropoff_DateTime\"]\n",
    "df_not_null.select(date_col).show(3)"
   ]
  },
  {
   "cell_type": "code",
   "execution_count": 20,
   "id": "42f40836",
   "metadata": {},
   "outputs": [],
   "source": [
    "# We could see the format is %Y-%M-%D %H:%M:%s\n",
    "spark.conf.set(\"spark.sql.legacy.timeParserPolicy\", \"LEGACY\")\n",
    "date_dict_map = {date_c: F.to_timestamp(F.col(date_c)) for date_c in date_col}\n",
    "df_date_parsed = df_not_null.withColumns(date_dict_map)"
   ]
  },
  {
   "cell_type": "code",
   "execution_count": 21,
   "id": "46fbce92",
   "metadata": {},
   "outputs": [
    {
     "name": "stdout",
     "output_type": "stream",
     "text": [
      "root\n",
      " |-- vendor_name: string (nullable = true)\n",
      " |-- Trip_Pickup_DateTime: timestamp (nullable = true)\n",
      " |-- Trip_Dropoff_DateTime: timestamp (nullable = true)\n",
      " |-- Passenger_Count: long (nullable = true)\n",
      " |-- Trip_Distance: double (nullable = true)\n",
      " |-- Start_Lon: double (nullable = true)\n",
      " |-- Start_Lat: double (nullable = true)\n",
      " |-- End_Lon: double (nullable = true)\n",
      " |-- End_Lat: double (nullable = true)\n",
      " |-- Payment_Type: string (nullable = true)\n",
      " |-- Fare_Amt: double (nullable = true)\n",
      " |-- surcharge: double (nullable = true)\n",
      " |-- Tip_Amt: double (nullable = true)\n",
      " |-- Tolls_Amt: double (nullable = true)\n",
      " |-- Total_Amt: double (nullable = true)\n",
      "\n"
     ]
    }
   ],
   "source": [
    "df_date_parsed.printSchema()"
   ]
  },
  {
   "cell_type": "markdown",
   "id": "f8713bef",
   "metadata": {},
   "source": [
    "#### Distinct Values"
   ]
  },
  {
   "cell_type": "code",
   "execution_count": 22,
   "id": "d6e00422",
   "metadata": {},
   "outputs": [
    {
     "name": "stderr",
     "output_type": "stream",
     "text": [
      "/home/joker021/.local/lib/python3.10/site-packages/pyspark/pandas/utils.py:975: PandasAPIOnSparkAdviceWarning: `to_list` loads all data into the driver's memory. It should only be used if the resulting list is expected to be small.\n",
      "  warnings.warn(message, PandasAPIOnSparkAdviceWarning)\n"
     ]
    }
   ],
   "source": [
    "string_cols = [f.name for f in df_date_parsed.schema.fields if isinstance(f.dataType, F.StringType)]\n",
    "distinct_count = df_date_parsed.select([F.countDistinct(F.col(c)).alias(c) for c in string_cols])\n",
    "distinct_count_pd = distinct_count.pandas_api().transpose()\n",
    "dist_cols = distinct_count_pd[distinct_count_pd[0]<50].index.tolist()"
   ]
  },
  {
   "cell_type": "code",
   "execution_count": 23,
   "id": "08211500",
   "metadata": {},
   "outputs": [
    {
     "name": "stderr",
     "output_type": "stream",
     "text": [
      "\r",
      "[Stage 35:===========================================>              (3 + 1) / 4]\r"
     ]
    },
    {
     "name": "stdout",
     "output_type": "stream",
     "text": [
      "+-----------+------------+\n",
      "|vendor_name|Payment_Type|\n",
      "+-----------+------------+\n",
      "|          3|           6|\n",
      "+-----------+------------+\n",
      "\n"
     ]
    },
    {
     "name": "stderr",
     "output_type": "stream",
     "text": [
      "\r",
      "                                                                                \r"
     ]
    }
   ],
   "source": [
    "df_date_parsed.select([F.countDistinct(F.col(c)).alias(c) for c in dist_cols]).show()"
   ]
  },
  {
   "cell_type": "code",
   "execution_count": 24,
   "id": "4fb5983c",
   "metadata": {},
   "outputs": [
    {
     "name": "stderr",
     "output_type": "stream",
     "text": [
      "                                                                                \r"
     ]
    },
    {
     "name": "stdout",
     "output_type": "stream",
     "text": [
      "+-----------+\n",
      "|vendor_name|\n",
      "+-----------+\n",
      "|        CMT|\n",
      "|        VTS|\n",
      "|        DDS|\n",
      "+-----------+\n",
      "\n"
     ]
    },
    {
     "name": "stderr",
     "output_type": "stream",
     "text": [
      "\r",
      "[Stage 44:===========================================>              (3 + 1) / 4]\r"
     ]
    },
    {
     "name": "stdout",
     "output_type": "stream",
     "text": [
      "+------------+\n",
      "|Payment_Type|\n",
      "+------------+\n",
      "|   No Charge|\n",
      "|        CASH|\n",
      "|      Credit|\n",
      "|        Cash|\n",
      "|     Dispute|\n",
      "|      CREDIT|\n",
      "+------------+\n",
      "\n"
     ]
    },
    {
     "name": "stderr",
     "output_type": "stream",
     "text": [
      "\r",
      "                                                                                \r"
     ]
    }
   ],
   "source": [
    "# View Distinct Values\n",
    "for c in dist_cols:\n",
    "    df_date_parsed.select(c).distinct().show()"
   ]
  },
  {
   "cell_type": "markdown",
   "id": "2f498fff",
   "metadata": {},
   "source": [
    "#### Duplicates"
   ]
  },
  {
   "cell_type": "code",
   "execution_count": 25,
   "id": "51cc1600",
   "metadata": {},
   "outputs": [],
   "source": [
    "#check for duplicate values\n",
    "df_dup_drop = df_date_parsed.dropDuplicates()"
   ]
  },
  {
   "cell_type": "code",
   "execution_count": 26,
   "id": "aece89bb",
   "metadata": {},
   "outputs": [
    {
     "name": "stderr",
     "output_type": "stream",
     "text": [
      "23/05/14 17:09:34 WARN TaskMemoryManager: Failed to allocate a page (4194288 bytes), try again.\n",
      "23/05/14 17:09:34 WARN TaskMemoryManager: Failed to allocate a page (4194288 bytes), try again.\n",
      "23/05/14 17:09:34 WARN TaskMemoryManager: Failed to allocate a page (4194288 bytes), try again.\n",
      "23/05/14 17:09:34 WARN TaskMemoryManager: Failed to allocate a page (4194288 bytes), try again.\n",
      "23/05/14 17:09:34 WARN TaskMemoryManager: Failed to allocate a page (4194288 bytes), try again.\n",
      "23/05/14 17:09:34 WARN TaskMemoryManager: Failed to allocate a page (4194288 bytes), try again.\n",
      "23/05/14 17:09:35 WARN TaskMemoryManager: Failed to allocate a page (4194288 bytes), try again.\n",
      "23/05/14 17:09:35 WARN TaskMemoryManager: Failed to allocate a page (4194288 bytes), try again.\n",
      "23/05/14 17:09:35 WARN TaskMemoryManager: Failed to allocate a page (4194288 bytes), try again.\n",
      "23/05/14 17:09:35 WARN TaskMemoryManager: Failed to allocate a page (4194288 bytes), try again.\n",
      "23/05/14 17:09:35 WARN TaskMemoryManager: Failed to allocate a page (4194288 bytes), try again.\n",
      "23/05/14 17:09:35 WARN TaskMemoryManager: Failed to allocate a page (4194288 bytes), try again.\n",
      "23/05/14 17:09:35 WARN TaskMemoryManager: Failed to allocate a page (4194288 bytes), try again.\n",
      "23/05/14 17:09:36 WARN TaskMemoryManager: Failed to allocate a page (4194288 bytes), try again.\n",
      "23/05/14 17:09:36 WARN TaskMemoryManager: Failed to allocate a page (4194288 bytes), try again.\n",
      "23/05/14 17:09:36 WARN TaskMemoryManager: Failed to allocate a page (4194288 bytes), try again.\n",
      "                                                                                \r"
     ]
    },
    {
     "data": {
      "text/plain": [
       "31"
      ]
     },
     "execution_count": 26,
     "metadata": {},
     "output_type": "execute_result"
    }
   ],
   "source": [
    "# Taking count after duplicates\n",
    "cnt_after_drop = df_dup_drop.count()\n",
    "\n",
    "# No of Duplciates dropped\n",
    "no_of_row - cnt_after_drop"
   ]
  },
  {
   "cell_type": "markdown",
   "id": "d0ab8efe",
   "metadata": {},
   "source": [
    "### Data Validation"
   ]
  },
  {
   "cell_type": "code",
   "execution_count": null,
   "id": "2611a333",
   "metadata": {},
   "outputs": [],
   "source": []
  }
 ],
 "metadata": {
  "kernelspec": {
   "display_name": "Python 3 (ipykernel)",
   "language": "python",
   "name": "python3"
  },
  "language_info": {
   "codemirror_mode": {
    "name": "ipython",
    "version": 3
   },
   "file_extension": ".py",
   "mimetype": "text/x-python",
   "name": "python",
   "nbconvert_exporter": "python",
   "pygments_lexer": "ipython3",
   "version": "3.10.6"
  }
 },
 "nbformat": 4,
 "nbformat_minor": 5
}
